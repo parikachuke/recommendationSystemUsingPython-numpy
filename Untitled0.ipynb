{
  "nbformat": 4,
  "nbformat_minor": 0,
  "metadata": {
    "colab": {
      "provenance": []
    },
    "kernelspec": {
      "name": "python3",
      "display_name": "Python 3"
    },
    "language_info": {
      "name": "python"
    }
  },
  "cells": [
    {
      "cell_type": "code",
      "execution_count": null,
      "metadata": {
        "colab": {
          "base_uri": "https://localhost:8080/",
          "height": 206
        },
        "id": "UupyZZj-4xbD",
        "outputId": "8052e42b-e81b-4b2f-a986-0f2bec3e5206"
      },
      "outputs": [
        {
          "output_type": "execute_result",
          "data": {
            "text/plain": [
              "   Unnamed: 0                                  title  popularity  vote_count  \\\n",
              "0           0           Puss in Boots: The Last Wish    1972.345        4613   \n",
              "1           1  Prizefighter: The Life of Jem Belcher    2522.636          38   \n",
              "2           2                              The Whale    2029.776        1224   \n",
              "3           3         Black Panther: Wakanda Forever    1798.789        4097   \n",
              "4           4                     Knock at the Cabin    1631.885        1010   \n",
              "\n",
              "  original_language  vote_average  \\\n",
              "0                en           8.4   \n",
              "1                en           6.8   \n",
              "2                en           8.0   \n",
              "3                en           7.3   \n",
              "4                en           6.4   \n",
              "\n",
              "                                            overview release_date  \n",
              "0  Puss in Boots discovers that his passion for a...   2022-12-07  \n",
              "1  At the turn of the 19th century, Pugilism was ...   2022-06-30  \n",
              "2  A reclusive English teacher suffering from sev...   2022-12-09  \n",
              "3  Queen Ramonda, Shuri, M’Baku, Okoye and the Do...   2022-11-09  \n",
              "4  While vacationing at a remote cabin, a young g...   2023-02-01  "
            ],
            "text/html": [
              "\n",
              "  <div id=\"df-528b8dd9-8008-4e33-9308-395f7272c791\">\n",
              "    <div class=\"colab-df-container\">\n",
              "      <div>\n",
              "<style scoped>\n",
              "    .dataframe tbody tr th:only-of-type {\n",
              "        vertical-align: middle;\n",
              "    }\n",
              "\n",
              "    .dataframe tbody tr th {\n",
              "        vertical-align: top;\n",
              "    }\n",
              "\n",
              "    .dataframe thead th {\n",
              "        text-align: right;\n",
              "    }\n",
              "</style>\n",
              "<table border=\"1\" class=\"dataframe\">\n",
              "  <thead>\n",
              "    <tr style=\"text-align: right;\">\n",
              "      <th></th>\n",
              "      <th>Unnamed: 0</th>\n",
              "      <th>title</th>\n",
              "      <th>popularity</th>\n",
              "      <th>vote_count</th>\n",
              "      <th>original_language</th>\n",
              "      <th>vote_average</th>\n",
              "      <th>overview</th>\n",
              "      <th>release_date</th>\n",
              "    </tr>\n",
              "  </thead>\n",
              "  <tbody>\n",
              "    <tr>\n",
              "      <th>0</th>\n",
              "      <td>0</td>\n",
              "      <td>Puss in Boots: The Last Wish</td>\n",
              "      <td>1972.345</td>\n",
              "      <td>4613</td>\n",
              "      <td>en</td>\n",
              "      <td>8.4</td>\n",
              "      <td>Puss in Boots discovers that his passion for a...</td>\n",
              "      <td>2022-12-07</td>\n",
              "    </tr>\n",
              "    <tr>\n",
              "      <th>1</th>\n",
              "      <td>1</td>\n",
              "      <td>Prizefighter: The Life of Jem Belcher</td>\n",
              "      <td>2522.636</td>\n",
              "      <td>38</td>\n",
              "      <td>en</td>\n",
              "      <td>6.8</td>\n",
              "      <td>At the turn of the 19th century, Pugilism was ...</td>\n",
              "      <td>2022-06-30</td>\n",
              "    </tr>\n",
              "    <tr>\n",
              "      <th>2</th>\n",
              "      <td>2</td>\n",
              "      <td>The Whale</td>\n",
              "      <td>2029.776</td>\n",
              "      <td>1224</td>\n",
              "      <td>en</td>\n",
              "      <td>8.0</td>\n",
              "      <td>A reclusive English teacher suffering from sev...</td>\n",
              "      <td>2022-12-09</td>\n",
              "    </tr>\n",
              "    <tr>\n",
              "      <th>3</th>\n",
              "      <td>3</td>\n",
              "      <td>Black Panther: Wakanda Forever</td>\n",
              "      <td>1798.789</td>\n",
              "      <td>4097</td>\n",
              "      <td>en</td>\n",
              "      <td>7.3</td>\n",
              "      <td>Queen Ramonda, Shuri, M’Baku, Okoye and the Do...</td>\n",
              "      <td>2022-11-09</td>\n",
              "    </tr>\n",
              "    <tr>\n",
              "      <th>4</th>\n",
              "      <td>4</td>\n",
              "      <td>Knock at the Cabin</td>\n",
              "      <td>1631.885</td>\n",
              "      <td>1010</td>\n",
              "      <td>en</td>\n",
              "      <td>6.4</td>\n",
              "      <td>While vacationing at a remote cabin, a young g...</td>\n",
              "      <td>2023-02-01</td>\n",
              "    </tr>\n",
              "  </tbody>\n",
              "</table>\n",
              "</div>\n",
              "      <button class=\"colab-df-convert\" onclick=\"convertToInteractive('df-528b8dd9-8008-4e33-9308-395f7272c791')\"\n",
              "              title=\"Convert this dataframe to an interactive table.\"\n",
              "              style=\"display:none;\">\n",
              "        \n",
              "  <svg xmlns=\"http://www.w3.org/2000/svg\" height=\"24px\"viewBox=\"0 0 24 24\"\n",
              "       width=\"24px\">\n",
              "    <path d=\"M0 0h24v24H0V0z\" fill=\"none\"/>\n",
              "    <path d=\"M18.56 5.44l.94 2.06.94-2.06 2.06-.94-2.06-.94-.94-2.06-.94 2.06-2.06.94zm-11 1L8.5 8.5l.94-2.06 2.06-.94-2.06-.94L8.5 2.5l-.94 2.06-2.06.94zm10 10l.94 2.06.94-2.06 2.06-.94-2.06-.94-.94-2.06-.94 2.06-2.06.94z\"/><path d=\"M17.41 7.96l-1.37-1.37c-.4-.4-.92-.59-1.43-.59-.52 0-1.04.2-1.43.59L10.3 9.45l-7.72 7.72c-.78.78-.78 2.05 0 2.83L4 21.41c.39.39.9.59 1.41.59.51 0 1.02-.2 1.41-.59l7.78-7.78 2.81-2.81c.8-.78.8-2.07 0-2.86zM5.41 20L4 18.59l7.72-7.72 1.47 1.35L5.41 20z\"/>\n",
              "  </svg>\n",
              "      </button>\n",
              "      \n",
              "  <style>\n",
              "    .colab-df-container {\n",
              "      display:flex;\n",
              "      flex-wrap:wrap;\n",
              "      gap: 12px;\n",
              "    }\n",
              "\n",
              "    .colab-df-convert {\n",
              "      background-color: #E8F0FE;\n",
              "      border: none;\n",
              "      border-radius: 50%;\n",
              "      cursor: pointer;\n",
              "      display: none;\n",
              "      fill: #1967D2;\n",
              "      height: 32px;\n",
              "      padding: 0 0 0 0;\n",
              "      width: 32px;\n",
              "    }\n",
              "\n",
              "    .colab-df-convert:hover {\n",
              "      background-color: #E2EBFA;\n",
              "      box-shadow: 0px 1px 2px rgba(60, 64, 67, 0.3), 0px 1px 3px 1px rgba(60, 64, 67, 0.15);\n",
              "      fill: #174EA6;\n",
              "    }\n",
              "\n",
              "    [theme=dark] .colab-df-convert {\n",
              "      background-color: #3B4455;\n",
              "      fill: #D2E3FC;\n",
              "    }\n",
              "\n",
              "    [theme=dark] .colab-df-convert:hover {\n",
              "      background-color: #434B5C;\n",
              "      box-shadow: 0px 1px 3px 1px rgba(0, 0, 0, 0.15);\n",
              "      filter: drop-shadow(0px 1px 2px rgba(0, 0, 0, 0.3));\n",
              "      fill: #FFFFFF;\n",
              "    }\n",
              "  </style>\n",
              "\n",
              "      <script>\n",
              "        const buttonEl =\n",
              "          document.querySelector('#df-528b8dd9-8008-4e33-9308-395f7272c791 button.colab-df-convert');\n",
              "        buttonEl.style.display =\n",
              "          google.colab.kernel.accessAllowed ? 'block' : 'none';\n",
              "\n",
              "        async function convertToInteractive(key) {\n",
              "          const element = document.querySelector('#df-528b8dd9-8008-4e33-9308-395f7272c791');\n",
              "          const dataTable =\n",
              "            await google.colab.kernel.invokeFunction('convertToInteractive',\n",
              "                                                     [key], {});\n",
              "          if (!dataTable) return;\n",
              "\n",
              "          const docLinkHtml = 'Like what you see? Visit the ' +\n",
              "            '<a target=\"_blank\" href=https://colab.research.google.com/notebooks/data_table.ipynb>data table notebook</a>'\n",
              "            + ' to learn more about interactive tables.';\n",
              "          element.innerHTML = '';\n",
              "          dataTable['output_type'] = 'display_data';\n",
              "          await google.colab.output.renderOutput(dataTable, element);\n",
              "          const docLink = document.createElement('div');\n",
              "          docLink.innerHTML = docLinkHtml;\n",
              "          element.appendChild(docLink);\n",
              "        }\n",
              "      </script>\n",
              "    </div>\n",
              "  </div>\n",
              "  "
            ]
          },
          "metadata": {},
          "execution_count": 16
        }
      ],
      "source": [
        "import pandas as pd\n",
        "import matplotlib.pyplot as plt\n",
        "from sklearn.feature_extraction.text import TfidfVectorizer\n",
        "from sklearn.metrics.pairwise import linear_kernel\n",
        "\n",
        "movies_df = pd.read_csv('/content/TMDB.csv')\n",
        "movies_df.head()"
      ]
    },
    {
      "cell_type": "code",
      "source": [
        "C = movies_df[\"popularity\"].mean()\n",
        "m = movies_df[\"vote_count\"].quantile(0.9)\n",
        "print(\"C: \", C)"
      ],
      "metadata": {
        "colab": {
          "base_uri": "https://localhost:8080/"
        },
        "id": "ba3Pr-7O9u2r",
        "outputId": "67920de1-cfb0-4b76-ed14-1e8f795045b2"
      },
      "execution_count": null,
      "outputs": [
        {
          "output_type": "stream",
          "name": "stdout",
          "text": [
            "C:  1227.0600500000003\n"
          ]
        }
      ]
    },
    {
      "cell_type": "code",
      "source": [
        "print(\"m: \", m)"
      ],
      "metadata": {
        "colab": {
          "base_uri": "https://localhost:8080/"
        },
        "id": "zGcauUZf-KKd",
        "outputId": "eb7abc9d-6924-42df-f0bf-21fa9b1f94fe"
      },
      "execution_count": null,
      "outputs": [
        {
          "output_type": "stream",
          "name": "stdout",
          "text": [
            "m:  4148.6000000030035\n"
          ]
        }
      ]
    },
    {
      "cell_type": "code",
      "source": [
        "new_movies_df = movies_df.copy().loc[movies_df[\"vote_count\"] >= m]\n",
        "print(new_movies_df.shape)"
      ],
      "metadata": {
        "colab": {
          "base_uri": "https://localhost:8080/"
        },
        "id": "yqk539ed-N22",
        "outputId": "39547979-8d34-4e48-9009-4d012f2d2fa7"
      },
      "execution_count": null,
      "outputs": [
        {
          "output_type": "stream",
          "name": "stdout",
          "text": [
            "(19998, 8)\n"
          ]
        }
      ]
    },
    {
      "cell_type": "code",
      "source": [
        "def weighted_rating(x, C=C, m=m):\n",
        "  v = x[\"vote_count\"]\n",
        "  R = x[\"vote_average\"]\n",
        "  return (v/(v + m) * R) + (m/(v + m) * C)\n",
        "new_movies_df[\"score\"] = new_movies_df.apply(weighted_rating, axis=1)\n",
        "new_movies_df = new_movies_df.sort_values('score', ascending=False)\n",
        "new_movies_df[[\"title\", \"vote_count\", \"vote_average\", \"score\"]].head(10)\n",
        "\n",
        "def plot():\n",
        "    popularity = movies_df.sort_values(\"popularity\", ascending=False)\n",
        "    plt.figure(figsize=(12, 6))\n",
        "    plt.barh(popularity[\"title\"].head(10), popularity[\"popularity\"].head(10), align=\"center\", color=\"skyblue\")\n",
        "    plt.gca().invert_yaxis()\n",
        "    plt.title(\"Top 10 movies\")\n",
        "    plt.xlabel(\"Popularity\")\n",
        "    plt.show()\n",
        "plot()"
      ],
      "metadata": {
        "colab": {
          "base_uri": "https://localhost:8080/",
          "height": 564
        },
        "id": "HqubYXhr-SvV",
        "outputId": "68aa5d89-ab55-4115-ee1f-b7006673f50d"
      },
      "execution_count": null,
      "outputs": [
        {
          "output_type": "display_data",
          "data": {
            "text/plain": [
              "<Figure size 1200x600 with 1 Axes>"
            ],
            "image/png": "[encoded data removed]"
          },
          "metadata": {}
        }
      ]
    },
    {
      "cell_type": "code",
      "source": [
        "# Content-based Filtering\n",
        "print(movies_df[\"overview\"].head(5))\n",
        "tfidf = TfidfVectorizer(stop_words=\"english\")\n",
        "movies_df[\"overview\"] = movies_df[\"overview\"].fillna(\"\")\n",
        "tfidf_matrix = tfidf.fit_transform(movies_df[\"overview\"])\n",
        "print(tfidf_matrix.shape)"
      ],
      "metadata": {
        "colab": {
          "base_uri": "https://localhost:8080/"
        },
        "id": "1G9UiAWc-S0M",
        "outputId": "f71fea59-bde3-4429-8684-1ce4d28bcf96"
      },
      "execution_count": null,
      "outputs": [
        {
          "output_type": "stream",
          "name": "stdout",
          "text": [
            "0    Puss in Boots discovers that his passion for a...\n",
            "1    At the turn of the 19th century, Pugilism was ...\n",
            "2    A reclusive English teacher suffering from sev...\n",
            "3    Queen Ramonda, Shuri, M’Baku, Okoye and the Do...\n",
            "4    While vacationing at a remote cabin, a young g...\n",
            "Name: overview, dtype: object\n",
            "(199980, 389)\n"
          ]
        }
      ]
    },
    {
      "cell_type": "code",
      "source": [
        "# Compute similarity\n",
        "cosine_sim = linear_kernel(tfidf_matrix, tfidf_matrix)\n",
        "print(cosine_sim.shape)\n",
        "indices = pd.Series(movies_df.index, index=movies_df[\"title\"]).drop_duplicates()\n",
        "print(indices.head())"
      ],
      "metadata": {
        "colab": {
          "base_uri": "https://localhost:8080/",
          "height": 235
        },
        "id": "YMBKrH30GOht",
        "outputId": "eeaca70e-9ced-44f8-e1e5-2cf0de1b75d7"
      },
      "execution_count": null,
      "outputs": [
        {
          "output_type": "error",
          "ename": "NameError",
          "evalue": "ignored",
          "traceback": [
            "\u001b[0;31m---------------------------------------------------------------------------\u001b[0m",
            "\u001b[0;31mNameError\u001b[0m                                 Traceback (most recent call last)",
            "\u001b[0;32m<ipython-input-1-28b5a08f73a7>\u001b[0m in \u001b[0;36m<cell line: 2>\u001b[0;34m()\u001b[0m\n\u001b[1;32m      1\u001b[0m \u001b[0;31m# Compute similarity\u001b[0m\u001b[0;34m\u001b[0m\u001b[0;34m\u001b[0m\u001b[0m\n\u001b[0;32m----> 2\u001b[0;31m \u001b[0mcosine_sim\u001b[0m \u001b[0;34m=\u001b[0m \u001b[0mlinear_kernel\u001b[0m\u001b[0;34m(\u001b[0m\u001b[0mtfidf_matrix\u001b[0m\u001b[0;34m,\u001b[0m \u001b[0mtfidf_matrix\u001b[0m\u001b[0;34m)\u001b[0m\u001b[0;34m\u001b[0m\u001b[0;34m\u001b[0m\u001b[0m\n\u001b[0m\u001b[1;32m      3\u001b[0m \u001b[0mprint\u001b[0m\u001b[0;34m(\u001b[0m\u001b[0mcosine_sim\u001b[0m\u001b[0;34m.\u001b[0m\u001b[0mshape\u001b[0m\u001b[0;34m)\u001b[0m\u001b[0;34m\u001b[0m\u001b[0;34m\u001b[0m\u001b[0m\n\u001b[1;32m      4\u001b[0m \u001b[0mindices\u001b[0m \u001b[0;34m=\u001b[0m \u001b[0mpd\u001b[0m\u001b[0;34m.\u001b[0m\u001b[0mSeries\u001b[0m\u001b[0;34m(\u001b[0m\u001b[0mmovies_df\u001b[0m\u001b[0;34m.\u001b[0m\u001b[0mindex\u001b[0m\u001b[0;34m,\u001b[0m \u001b[0mindex\u001b[0m\u001b[0;34m=\u001b[0m\u001b[0mmovies_df\u001b[0m\u001b[0;34m[\u001b[0m\u001b[0;34m\"title\"\u001b[0m\u001b[0;34m]\u001b[0m\u001b[0;34m)\u001b[0m\u001b[0;34m.\u001b[0m\u001b[0mdrop_duplicates\u001b[0m\u001b[0;34m(\u001b[0m\u001b[0;34m)\u001b[0m\u001b[0;34m\u001b[0m\u001b[0;34m\u001b[0m\u001b[0m\n\u001b[1;32m      5\u001b[0m \u001b[0mprint\u001b[0m\u001b[0;34m(\u001b[0m\u001b[0mindices\u001b[0m\u001b[0;34m.\u001b[0m\u001b[0mhead\u001b[0m\u001b[0;34m(\u001b[0m\u001b[0;34m)\u001b[0m\u001b[0;34m)\u001b[0m\u001b[0;34m\u001b[0m\u001b[0;34m\u001b[0m\u001b[0m\n",
            "\u001b[0;31mNameError\u001b[0m: name 'linear_kernel' is not defined"
          ]
        }
      ]
    }
  ]
}